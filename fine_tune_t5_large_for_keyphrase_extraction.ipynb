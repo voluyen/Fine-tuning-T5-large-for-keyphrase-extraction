{
  "metadata": {
    "accelerator": "GPU",
    "colab": {
      "gpuType": "T4",
      "provenance": []
    },
    "kaggle": {
      "accelerator": "nvidiaTeslaT4",
      "dataSources": [],
      "dockerImageVersionId": 30699,
      "isInternetEnabled": true,
      "language": "python",
      "sourceType": "notebook",
      "isGpuEnabled": true
    },
    "kernelspec": {
      "name": "python3",
      "display_name": "Python 3",
      "language": "python"
    },
    "language_info": {
      "codemirror_mode": {
        "name": "ipython",
        "version": 3
      },
      "file_extension": ".py",
      "mimetype": "text/x-python",
      "name": "python",
      "nbconvert_exporter": "python",
      "pygments_lexer": "ipython3",
      "version": "3.10.13"
    },
    "widgets": {
      "application/vnd.jupyter.widget-state+json": {
        "a1029d2febfd464599288eb5bd30a45a": {
          "model_module": "@jupyter-widgets/controls",
          "model_name": "HBoxModel",
          "model_module_version": "1.5.0",
          "state": {
            "_dom_classes": [],
            "_model_module": "@jupyter-widgets/controls",
            "_model_module_version": "1.5.0",
            "_model_name": "HBoxModel",
            "_view_count": null,
            "_view_module": "@jupyter-widgets/controls",
            "_view_module_version": "1.5.0",
            "_view_name": "HBoxView",
            "box_style": "",
            "children": [
              "IPY_MODEL_375a1129e8f54ad2979640fe6b78c6d9",
              "IPY_MODEL_cd27db7e52254b0883bba2b03ff16a87",
              "IPY_MODEL_f9b6461b47d04f048bfba46c081d5a9f"
            ],
            "layout": "IPY_MODEL_09ef477c99084313b805ff962a692895"
          }
        },
        "375a1129e8f54ad2979640fe6b78c6d9": {
          "model_module": "@jupyter-widgets/controls",
          "model_name": "HTMLModel",
          "model_module_version": "1.5.0",
          "state": {
            "_dom_classes": [],
            "_model_module": "@jupyter-widgets/controls",
            "_model_module_version": "1.5.0",
            "_model_name": "HTMLModel",
            "_view_count": null,
            "_view_module": "@jupyter-widgets/controls",
            "_view_module_version": "1.5.0",
            "_view_name": "HTMLView",
            "description": "",
            "description_tooltip": null,
            "layout": "IPY_MODEL_85a878ea6c914e32b5cf61a32a525b99",
            "placeholder": "​",
            "style": "IPY_MODEL_f9b378af639d4e0da73b483350bb1d5a",
            "value": "Map: 100%"
          }
        },
        "cd27db7e52254b0883bba2b03ff16a87": {
          "model_module": "@jupyter-widgets/controls",
          "model_name": "FloatProgressModel",
          "model_module_version": "1.5.0",
          "state": {
            "_dom_classes": [],
            "_model_module": "@jupyter-widgets/controls",
            "_model_module_version": "1.5.0",
            "_model_name": "FloatProgressModel",
            "_view_count": null,
            "_view_module": "@jupyter-widgets/controls",
            "_view_module_version": "1.5.0",
            "_view_name": "ProgressView",
            "bar_style": "success",
            "description": "",
            "description_tooltip": null,
            "layout": "IPY_MODEL_1b4a2c73c65b4c66871290a94155560a",
            "max": 5000,
            "min": 0,
            "orientation": "horizontal",
            "style": "IPY_MODEL_54b355c3de984fa4a599b8a572e73272",
            "value": 5000
          }
        },
        "f9b6461b47d04f048bfba46c081d5a9f": {
          "model_module": "@jupyter-widgets/controls",
          "model_name": "HTMLModel",
          "model_module_version": "1.5.0",
          "state": {
            "_dom_classes": [],
            "_model_module": "@jupyter-widgets/controls",
            "_model_module_version": "1.5.0",
            "_model_name": "HTMLModel",
            "_view_count": null,
            "_view_module": "@jupyter-widgets/controls",
            "_view_module_version": "1.5.0",
            "_view_name": "HTMLView",
            "description": "",
            "description_tooltip": null,
            "layout": "IPY_MODEL_9b9172854c0c4b428d1dd71f0c7f36af",
            "placeholder": "​",
            "style": "IPY_MODEL_47d93408f0a24310be23716f12b76219",
            "value": " 5000/5000 [00:29&lt;00:00, 184.81 examples/s]"
          }
        },
        "09ef477c99084313b805ff962a692895": {
          "model_module": "@jupyter-widgets/base",
          "model_name": "LayoutModel",
          "model_module_version": "1.2.0",
          "state": {
            "_model_module": "@jupyter-widgets/base",
            "_model_module_version": "1.2.0",
            "_model_name": "LayoutModel",
            "_view_count": null,
            "_view_module": "@jupyter-widgets/base",
            "_view_module_version": "1.2.0",
            "_view_name": "LayoutView",
            "align_content": null,
            "align_items": null,
            "align_self": null,
            "border": null,
            "bottom": null,
            "display": null,
            "flex": null,
            "flex_flow": null,
            "grid_area": null,
            "grid_auto_columns": null,
            "grid_auto_flow": null,
            "grid_auto_rows": null,
            "grid_column": null,
            "grid_gap": null,
            "grid_row": null,
            "grid_template_areas": null,
            "grid_template_columns": null,
            "grid_template_rows": null,
            "height": null,
            "justify_content": null,
            "justify_items": null,
            "left": null,
            "margin": null,
            "max_height": null,
            "max_width": null,
            "min_height": null,
            "min_width": null,
            "object_fit": null,
            "object_position": null,
            "order": null,
            "overflow": null,
            "overflow_x": null,
            "overflow_y": null,
            "padding": null,
            "right": null,
            "top": null,
            "visibility": null,
            "width": null
          }
        },
        "85a878ea6c914e32b5cf61a32a525b99": {
          "model_module": "@jupyter-widgets/base",
          "model_name": "LayoutModel",
          "model_module_version": "1.2.0",
          "state": {
            "_model_module": "@jupyter-widgets/base",
            "_model_module_version": "1.2.0",
            "_model_name": "LayoutModel",
            "_view_count": null,
            "_view_module": "@jupyter-widgets/base",
            "_view_module_version": "1.2.0",
            "_view_name": "LayoutView",
            "align_content": null,
            "align_items": null,
            "align_self": null,
            "border": null,
            "bottom": null,
            "display": null,
            "flex": null,
            "flex_flow": null,
            "grid_area": null,
            "grid_auto_columns": null,
            "grid_auto_flow": null,
            "grid_auto_rows": null,
            "grid_column": null,
            "grid_gap": null,
            "grid_row": null,
            "grid_template_areas": null,
            "grid_template_columns": null,
            "grid_template_rows": null,
            "height": null,
            "justify_content": null,
            "justify_items": null,
            "left": null,
            "margin": null,
            "max_height": null,
            "max_width": null,
            "min_height": null,
            "min_width": null,
            "object_fit": null,
            "object_position": null,
            "order": null,
            "overflow": null,
            "overflow_x": null,
            "overflow_y": null,
            "padding": null,
            "right": null,
            "top": null,
            "visibility": null,
            "width": null
          }
        },
        "f9b378af639d4e0da73b483350bb1d5a": {
          "model_module": "@jupyter-widgets/controls",
          "model_name": "DescriptionStyleModel",
          "model_module_version": "1.5.0",
          "state": {
            "_model_module": "@jupyter-widgets/controls",
            "_model_module_version": "1.5.0",
            "_model_name": "DescriptionStyleModel",
            "_view_count": null,
            "_view_module": "@jupyter-widgets/base",
            "_view_module_version": "1.2.0",
            "_view_name": "StyleView",
            "description_width": ""
          }
        },
        "1b4a2c73c65b4c66871290a94155560a": {
          "model_module": "@jupyter-widgets/base",
          "model_name": "LayoutModel",
          "model_module_version": "1.2.0",
          "state": {
            "_model_module": "@jupyter-widgets/base",
            "_model_module_version": "1.2.0",
            "_model_name": "LayoutModel",
            "_view_count": null,
            "_view_module": "@jupyter-widgets/base",
            "_view_module_version": "1.2.0",
            "_view_name": "LayoutView",
            "align_content": null,
            "align_items": null,
            "align_self": null,
            "border": null,
            "bottom": null,
            "display": null,
            "flex": null,
            "flex_flow": null,
            "grid_area": null,
            "grid_auto_columns": null,
            "grid_auto_flow": null,
            "grid_auto_rows": null,
            "grid_column": null,
            "grid_gap": null,
            "grid_row": null,
            "grid_template_areas": null,
            "grid_template_columns": null,
            "grid_template_rows": null,
            "height": null,
            "justify_content": null,
            "justify_items": null,
            "left": null,
            "margin": null,
            "max_height": null,
            "max_width": null,
            "min_height": null,
            "min_width": null,
            "object_fit": null,
            "object_position": null,
            "order": null,
            "overflow": null,
            "overflow_x": null,
            "overflow_y": null,
            "padding": null,
            "right": null,
            "top": null,
            "visibility": null,
            "width": null
          }
        },
        "54b355c3de984fa4a599b8a572e73272": {
          "model_module": "@jupyter-widgets/controls",
          "model_name": "ProgressStyleModel",
          "model_module_version": "1.5.0",
          "state": {
            "_model_module": "@jupyter-widgets/controls",
            "_model_module_version": "1.5.0",
            "_model_name": "ProgressStyleModel",
            "_view_count": null,
            "_view_module": "@jupyter-widgets/base",
            "_view_module_version": "1.2.0",
            "_view_name": "StyleView",
            "bar_color": null,
            "description_width": ""
          }
        },
        "9b9172854c0c4b428d1dd71f0c7f36af": {
          "model_module": "@jupyter-widgets/base",
          "model_name": "LayoutModel",
          "model_module_version": "1.2.0",
          "state": {
            "_model_module": "@jupyter-widgets/base",
            "_model_module_version": "1.2.0",
            "_model_name": "LayoutModel",
            "_view_count": null,
            "_view_module": "@jupyter-widgets/base",
            "_view_module_version": "1.2.0",
            "_view_name": "LayoutView",
            "align_content": null,
            "align_items": null,
            "align_self": null,
            "border": null,
            "bottom": null,
            "display": null,
            "flex": null,
            "flex_flow": null,
            "grid_area": null,
            "grid_auto_columns": null,
            "grid_auto_flow": null,
            "grid_auto_rows": null,
            "grid_column": null,
            "grid_gap": null,
            "grid_row": null,
            "grid_template_areas": null,
            "grid_template_columns": null,
            "grid_template_rows": null,
            "height": null,
            "justify_content": null,
            "justify_items": null,
            "left": null,
            "margin": null,
            "max_height": null,
            "max_width": null,
            "min_height": null,
            "min_width": null,
            "object_fit": null,
            "object_position": null,
            "order": null,
            "overflow": null,
            "overflow_x": null,
            "overflow_y": null,
            "padding": null,
            "right": null,
            "top": null,
            "visibility": null,
            "width": null
          }
        },
        "47d93408f0a24310be23716f12b76219": {
          "model_module": "@jupyter-widgets/controls",
          "model_name": "DescriptionStyleModel",
          "model_module_version": "1.5.0",
          "state": {
            "_model_module": "@jupyter-widgets/controls",
            "_model_module_version": "1.5.0",
            "_model_name": "DescriptionStyleModel",
            "_view_count": null,
            "_view_module": "@jupyter-widgets/base",
            "_view_module_version": "1.2.0",
            "_view_name": "StyleView",
            "description_width": ""
          }
        }
      }
    }
  },
  "nbformat_minor": 0,
  "nbformat": 4,
  "cells": [
    {
      "cell_type": "markdown",
      "source": [
        "# Cài đặt các thư viện cần thiết"
      ],
      "metadata": {
        "id": "wCjv0iyCW2qc"
      }
    },
    {
      "cell_type": "code",
      "source": [
        "!pip install -q accelerate==0.21.0 peft==0.4.0 bitsandbytes==0.41.0 transformers==4.33.1 trl==0.4.7"
      ],
      "metadata": {
        "execution": {
          "iopub.status.busy": "2024-05-18T13:54:18.225112Z",
          "iopub.execute_input": "2024-05-18T13:54:18.225447Z",
          "iopub.status.idle": "2024-05-18T13:54:49.507986Z",
          "shell.execute_reply.started": "2024-05-18T13:54:18.225418Z",
          "shell.execute_reply": "2024-05-18T13:54:49.506777Z"
        },
        "trusted": true,
        "id": "LOvdYcPkW2qf"
      },
      "execution_count": null,
      "outputs": []
    },
    {
      "cell_type": "markdown",
      "source": [
        "# Import thư viện"
      ],
      "metadata": {
        "id": "H6D8am7lW2qg"
      }
    },
    {
      "cell_type": "code",
      "source": [
        "import os\n",
        "import torch\n",
        "from datasets import load_dataset\n",
        "from transformers import (\n",
        "    AutoModelForSeq2SeqLM,\n",
        "    AutoTokenizer,\n",
        "    BitsAndBytesConfig,\n",
        "    HfArgumentParser,\n",
        "    Seq2SeqTrainingArguments,\n",
        "    Seq2SeqTrainer,\n",
        "    pipeline,\n",
        "    logging,\n",
        ")\n",
        "from peft import LoraConfig, PeftModel, get_peft_model, prepare_model_for_kbit_training\n",
        "from trl import SFTTrainer"
      ],
      "metadata": {
        "id": "xV5kMQk9nI_A",
        "execution": {
          "iopub.status.busy": "2024-05-18T13:54:49.510325Z",
          "iopub.execute_input": "2024-05-18T13:54:49.510719Z",
          "iopub.status.idle": "2024-05-18T13:55:11.803205Z",
          "shell.execute_reply.started": "2024-05-18T13:54:49.510682Z",
          "shell.execute_reply": "2024-05-18T13:55:11.802036Z"
        },
        "trusted": true,
        "outputId": "6e5cac5c-c3ca-474f-cf67-c18b61898eca"
      },
      "execution_count": null,
      "outputs": [
        {
          "name": "stderr",
          "text": "2024-05-18 13:54:58.858698: E external/local_xla/xla/stream_executor/cuda/cuda_dnn.cc:9261] Unable to register cuDNN factory: Attempting to register factory for plugin cuDNN when one has already been registered\n2024-05-18 13:54:58.858807: E external/local_xla/xla/stream_executor/cuda/cuda_fft.cc:607] Unable to register cuFFT factory: Attempting to register factory for plugin cuFFT when one has already been registered\n2024-05-18 13:54:59.023121: E external/local_xla/xla/stream_executor/cuda/cuda_blas.cc:1515] Unable to register cuBLAS factory: Attempting to register factory for plugin cuBLAS when one has already been registered\n",
          "output_type": "stream"
        }
      ]
    },
    {
      "cell_type": "markdown",
      "source": [
        "# Tải dataset"
      ],
      "metadata": {
        "id": "LurOJbt2W2qh"
      }
    },
    {
      "cell_type": "code",
      "source": [
        "model_name = \"google-t5/t5-large\"\n",
        "\n",
        "dataset_name = \"memray/openkp\"\n",
        "\n",
        "new_model = \"t5-large-fine-tune\""
      ],
      "metadata": {
        "id": "ER8Upt9f-rlF",
        "execution": {
          "iopub.status.busy": "2024-05-18T13:55:11.804465Z",
          "iopub.execute_input": "2024-05-18T13:55:11.806008Z",
          "iopub.status.idle": "2024-05-18T13:55:11.810376Z",
          "shell.execute_reply.started": "2024-05-18T13:55:11.805972Z",
          "shell.execute_reply": "2024-05-18T13:55:11.809522Z"
        },
        "trusted": true
      },
      "execution_count": null,
      "outputs": []
    },
    {
      "cell_type": "code",
      "source": [
        "dataset = load_dataset(dataset_name, split=['train[:15%]', 'test[:20%]'])"
      ],
      "metadata": {
        "colab": {
          "base_uri": "https://localhost:8080/",
          "referenced_widgets": [
            "eb151f4a65e842cdb5107ae8df2a374f",
            "751ed6f297fd49c697bf7563a7d63900",
            "38fb17a74c2c4434b1d4d663c4d19bc4",
            "1396b530dc5341cf81542f758a76bb21"
          ]
        },
        "id": "qcqD5mEp-s1S",
        "outputId": "7e17a59b-e5a4-4b61-d6fe-058787a47196",
        "execution": {
          "iopub.status.busy": "2024-05-18T13:55:11.811859Z",
          "iopub.execute_input": "2024-05-18T13:55:11.812179Z",
          "iopub.status.idle": "2024-05-18T13:55:29.413342Z",
          "shell.execute_reply.started": "2024-05-18T13:55:11.812151Z",
          "shell.execute_reply": "2024-05-18T13:55:29.412594Z"
        },
        "trusted": true
      },
      "execution_count": null,
      "outputs": [
        {
          "output_type": "display_data",
          "data": {
            "text/plain": "Downloading readme:   0%|          | 0.00/33.0 [00:00<?, ?B/s]",
            "application/vnd.jupyter.widget-view+json": {
              "version_major": 2,
              "version_minor": 0,
              "model_id": "eb151f4a65e842cdb5107ae8df2a374f"
            }
          },
          "metadata": {}
        },
        {
          "name": "stderr",
          "text": "Downloading data: 100%|██████████| 925M/925M [00:06<00:00, 148MB/s]  \nDownloading data: 100%|██████████| 36.3M/36.3M [00:00<00:00, 66.1MB/s]\nDownloading data: 100%|██████████| 35.9M/35.9M [00:00<00:00, 45.2MB/s]\n",
          "output_type": "stream"
        },
        {
          "output_type": "display_data",
          "data": {
            "text/plain": "Generating train split: 0 examples [00:00, ? examples/s]",
            "application/vnd.jupyter.widget-view+json": {
              "version_major": 2,
              "version_minor": 0,
              "model_id": "751ed6f297fd49c697bf7563a7d63900"
            }
          },
          "metadata": {}
        },
        {
          "output_type": "display_data",
          "data": {
            "text/plain": "Generating validation split: 0 examples [00:00, ? examples/s]",
            "application/vnd.jupyter.widget-view+json": {
              "version_major": 2,
              "version_minor": 0,
              "model_id": "38fb17a74c2c4434b1d4d663c4d19bc4"
            }
          },
          "metadata": {}
        },
        {
          "output_type": "display_data",
          "data": {
            "text/plain": "Generating test split: 0 examples [00:00, ? examples/s]",
            "application/vnd.jupyter.widget-view+json": {
              "version_major": 2,
              "version_minor": 0,
              "model_id": "1396b530dc5341cf81542f758a76bb21"
            }
          },
          "metadata": {}
        }
      ]
    },
    {
      "cell_type": "code",
      "source": [
        "dataset"
      ],
      "metadata": {
        "colab": {
          "base_uri": "https://localhost:8080/"
        },
        "id": "jAIRdAgHyOe2",
        "outputId": "d332a3cd-cf79-4a10-d8ab-4fb6341d2461",
        "execution": {
          "iopub.status.busy": "2024-05-18T13:55:29.415393Z",
          "iopub.execute_input": "2024-05-18T13:55:29.415682Z",
          "iopub.status.idle": "2024-05-18T13:55:29.422339Z",
          "shell.execute_reply.started": "2024-05-18T13:55:29.415658Z",
          "shell.execute_reply": "2024-05-18T13:55:29.421349Z"
        },
        "trusted": true
      },
      "execution_count": null,
      "outputs": [
        {
          "execution_count": 5,
          "output_type": "execute_result",
          "data": {
            "text/plain": "[Dataset({\n     features: ['url', 'text', 'KeyPhrases'],\n     num_rows: 20234\n }),\n Dataset({\n     features: ['url', 'text', 'KeyPhrases'],\n     num_rows: 1323\n })]"
          },
          "metadata": {}
        }
      ]
    },
    {
      "cell_type": "markdown",
      "source": [
        "# Tải tokenizer"
      ],
      "metadata": {
        "id": "3Lt3JeFzW2qi"
      }
    },
    {
      "cell_type": "code",
      "source": [
        "tokenizer = AutoTokenizer.from_pretrained(model_name, model_max_length=512)"
      ],
      "metadata": {
        "colab": {
          "base_uri": "https://localhost:8080/",
          "referenced_widgets": [
            "be09f49f3009477890851fbaedff66b0",
            "5e2af55708f14eb9ab07e403d3e24a75",
            "62d66a33425147c59b5233ee1f2db428"
          ]
        },
        "id": "l6aGuPAH_R3-",
        "outputId": "64596b16-1218-4a19-cd48-15bbfc8c77f4",
        "execution": {
          "iopub.status.busy": "2024-05-18T13:55:29.423617Z",
          "iopub.execute_input": "2024-05-18T13:55:29.423987Z",
          "iopub.status.idle": "2024-05-18T13:55:30.221221Z",
          "shell.execute_reply.started": "2024-05-18T13:55:29.423957Z",
          "shell.execute_reply": "2024-05-18T13:55:30.220258Z"
        },
        "trusted": true
      },
      "execution_count": null,
      "outputs": [
        {
          "output_type": "display_data",
          "data": {
            "text/plain": "config.json:   0%|          | 0.00/1.21k [00:00<?, ?B/s]",
            "application/vnd.jupyter.widget-view+json": {
              "version_major": 2,
              "version_minor": 0,
              "model_id": "be09f49f3009477890851fbaedff66b0"
            }
          },
          "metadata": {}
        },
        {
          "output_type": "display_data",
          "data": {
            "text/plain": "spiece.model:   0%|          | 0.00/792k [00:00<?, ?B/s]",
            "application/vnd.jupyter.widget-view+json": {
              "version_major": 2,
              "version_minor": 0,
              "model_id": "5e2af55708f14eb9ab07e403d3e24a75"
            }
          },
          "metadata": {}
        },
        {
          "output_type": "display_data",
          "data": {
            "text/plain": "tokenizer.json:   0%|          | 0.00/1.39M [00:00<?, ?B/s]",
            "application/vnd.jupyter.widget-view+json": {
              "version_major": 2,
              "version_minor": 0,
              "model_id": "62d66a33425147c59b5233ee1f2db428"
            }
          },
          "metadata": {}
        }
      ]
    },
    {
      "cell_type": "markdown",
      "source": [
        "# Tiền xử lý dữ liệu"
      ],
      "metadata": {
        "id": "4j4WdfXYW2qi"
      }
    },
    {
      "cell_type": "code",
      "source": [
        "train_dataset = dataset[0]\n",
        "test_dataset = dataset[1]\n",
        "\n",
        "def preprocess(data):\n",
        "  inputs = [i for i in data['text']]\n",
        "  targets = ['; '.join(i) for i in data['KeyPhrases']]\n",
        "  model_inputs=tokenizer(inputs, padding=True, truncation=True)\n",
        "  labels=tokenizer(targets,padding=True, truncation=True)\n",
        "\n",
        "  model_inputs[\"labels\"]=labels[\"input_ids\"]\n",
        "  return model_inputs\n",
        "\n",
        "train_dataset=train_dataset.map(preprocess, batched=True)\n",
        "test_dataset=test_dataset.map(preprocess, batched=True)"
      ],
      "metadata": {
        "colab": {
          "base_uri": "https://localhost:8080/",
          "height": 49,
          "referenced_widgets": [
            "a1029d2febfd464599288eb5bd30a45a",
            "375a1129e8f54ad2979640fe6b78c6d9",
            "cd27db7e52254b0883bba2b03ff16a87",
            "f9b6461b47d04f048bfba46c081d5a9f",
            "09ef477c99084313b805ff962a692895",
            "85a878ea6c914e32b5cf61a32a525b99",
            "f9b378af639d4e0da73b483350bb1d5a",
            "1b4a2c73c65b4c66871290a94155560a",
            "54b355c3de984fa4a599b8a572e73272",
            "9b9172854c0c4b428d1dd71f0c7f36af",
            "47d93408f0a24310be23716f12b76219",
            "26f471d8978647b496fd468329961327",
            "faa9fc54341f4240a2272bfd9d0d6efa"
          ]
        },
        "id": "AqIQswJD_zEm",
        "outputId": "3fbe3c41-5a3f-40ba-81b6-ac6eb745ee5c",
        "execution": {
          "iopub.status.busy": "2024-05-18T14:38:08.960915Z",
          "iopub.execute_input": "2024-05-18T14:38:08.961607Z",
          "iopub.status.idle": "2024-05-18T14:39:04.216154Z",
          "shell.execute_reply.started": "2024-05-18T14:38:08.961574Z",
          "shell.execute_reply": "2024-05-18T14:39:04.215242Z"
        },
        "trusted": true
      },
      "execution_count": null,
      "outputs": [
        {
          "output_type": "display_data",
          "data": {
            "text/plain": "Map:   0%|          | 0/20234 [00:00<?, ? examples/s]",
            "application/vnd.jupyter.widget-view+json": {
              "version_major": 2,
              "version_minor": 0,
              "model_id": "26f471d8978647b496fd468329961327"
            }
          },
          "metadata": {}
        },
        {
          "output_type": "display_data",
          "data": {
            "text/plain": "Map:   0%|          | 0/1323 [00:00<?, ? examples/s]",
            "application/vnd.jupyter.widget-view+json": {
              "version_major": 2,
              "version_minor": 0,
              "model_id": "faa9fc54341f4240a2272bfd9d0d6efa"
            }
          },
          "metadata": {}
        }
      ]
    },
    {
      "cell_type": "markdown",
      "source": [
        "# Tải model T5-large"
      ],
      "metadata": {
        "id": "-G2gK4pvW2qj"
      }
    },
    {
      "cell_type": "code",
      "source": [
        "device_map = {\"\": 0}"
      ],
      "metadata": {
        "id": "R8V0q6UOnP_G",
        "execution": {
          "iopub.status.busy": "2024-05-18T08:48:31.590903Z",
          "iopub.execute_input": "2024-05-18T08:48:31.591198Z",
          "iopub.status.idle": "2024-05-18T08:48:31.595487Z",
          "shell.execute_reply.started": "2024-05-18T08:48:31.591174Z",
          "shell.execute_reply": "2024-05-18T08:48:31.594516Z"
        },
        "trusted": true
      },
      "execution_count": null,
      "outputs": []
    },
    {
      "cell_type": "code",
      "source": [
        "# Compute dtype for 4-bit base models\n",
        "bnb_4bit_compute_dtype = \"float16\"\n",
        "\n",
        "# Quantization type (fp4 or nf4)\n",
        "bnb_4bit_quant_type = \"nf4\"\n",
        "\n",
        "# double quantization\n",
        "use_nested_quant = False\n",
        "\n",
        "compute_dtype = getattr(torch, bnb_4bit_compute_dtype)\n",
        "\n",
        "bnb_config = BitsAndBytesConfig(\n",
        "    load_in_4bit=True,\n",
        "    bnb_4bit_quant_type=bnb_4bit_quant_type,\n",
        "    bnb_4bit_compute_dtype=compute_dtype,\n",
        "    bnb_4bit_use_double_quant=use_nested_quant,\n",
        ")"
      ],
      "metadata": {
        "id": "B0EF0je0pxva",
        "execution": {
          "iopub.status.busy": "2024-05-18T08:48:31.598171Z",
          "iopub.execute_input": "2024-05-18T08:48:31.598466Z",
          "iopub.status.idle": "2024-05-18T08:48:31.667348Z",
          "shell.execute_reply.started": "2024-05-18T08:48:31.598441Z",
          "shell.execute_reply": "2024-05-18T08:48:31.666438Z"
        },
        "trusted": true
      },
      "execution_count": null,
      "outputs": []
    },
    {
      "cell_type": "code",
      "source": [
        "model = AutoModelForSeq2SeqLM.from_pretrained(\n",
        "    model_name,\n",
        "    quantization_config=bnb_config,\n",
        "    device_map=device_map\n",
        ")"
      ],
      "metadata": {
        "colab": {
          "base_uri": "https://localhost:8080/",
          "referenced_widgets": [
            "ea574cb5873d4353a6c751b35e176988",
            "399d7c53b6d84bae82e7990970422d0a"
          ]
        },
        "id": "bCmAVILHqApw",
        "outputId": "68564448-21ff-42d3-ca5b-ca6ef755d7bb",
        "execution": {
          "iopub.status.busy": "2024-05-18T08:48:31.670926Z",
          "iopub.execute_input": "2024-05-18T08:48:31.671673Z",
          "iopub.status.idle": "2024-05-18T08:51:35.013193Z",
          "shell.execute_reply.started": "2024-05-18T08:48:31.671646Z",
          "shell.execute_reply": "2024-05-18T08:51:35.012385Z"
        },
        "trusted": true
      },
      "execution_count": null,
      "outputs": [
        {
          "output_type": "display_data",
          "data": {
            "text/plain": "model.safetensors:   0%|          | 0.00/2.95G [00:00<?, ?B/s]",
            "application/vnd.jupyter.widget-view+json": {
              "version_major": 2,
              "version_minor": 0,
              "model_id": "ea574cb5873d4353a6c751b35e176988"
            }
          },
          "metadata": {}
        },
        {
          "output_type": "display_data",
          "data": {
            "text/plain": "generation_config.json:   0%|          | 0.00/147 [00:00<?, ?B/s]",
            "application/vnd.jupyter.widget-view+json": {
              "version_major": 2,
              "version_minor": 0,
              "model_id": "399d7c53b6d84bae82e7990970422d0a"
            }
          },
          "metadata": {}
        }
      ]
    },
    {
      "cell_type": "markdown",
      "source": [
        "# Khởi tạo tham số LoRA"
      ],
      "metadata": {
        "id": "32m8X07sW2qj"
      }
    },
    {
      "cell_type": "code",
      "source": [
        "# Freeze the original parameters\n",
        "model=prepare_model_for_kbit_training(model)\n",
        "\n",
        "lora_r = 32\n",
        "lora_alpha = 24\n",
        "lora_dropout = 0.1\n",
        "\n",
        "peft_config = LoraConfig(\n",
        "    lora_alpha=lora_alpha,\n",
        "    lora_dropout=lora_dropout,\n",
        "    r=lora_r,\n",
        "    task_type=\"SEQ_2_SEQ_LM\",\n",
        ")\n",
        "\n",
        "peft_model=get_peft_model(model, peft_config)\n",
        "peft_model.print_trainable_parameters()"
      ],
      "metadata": {
        "colab": {
          "base_uri": "https://localhost:8080/"
        },
        "id": "L2KmJqnWyOe3",
        "outputId": "d66b44ff-1753-41ca-fa1c-b5d8e074f7ab",
        "execution": {
          "iopub.status.busy": "2024-05-18T08:51:35.014278Z",
          "iopub.execute_input": "2024-05-18T08:51:35.014588Z",
          "iopub.status.idle": "2024-05-18T08:51:36.979604Z",
          "shell.execute_reply.started": "2024-05-18T08:51:35.014562Z",
          "shell.execute_reply": "2024-05-18T08:51:36.978539Z"
        },
        "trusted": true
      },
      "execution_count": null,
      "outputs": [
        {
          "name": "stdout",
          "text": "trainable params: 9,437,184 || all params: 495,447,040 || trainable%: 1.9047815887647648\n",
          "output_type": "stream"
        }
      ]
    },
    {
      "cell_type": "markdown",
      "source": [
        "# Training"
      ],
      "metadata": {
        "id": "aEvijgfMW2qk"
      }
    },
    {
      "cell_type": "code",
      "source": [
        "from transformers import DataCollatorForSeq2Seq\n",
        "\n",
        "label_pad_token_id = tokenizer.pad_token_id\n",
        "\n",
        "# padding the sentence of the entire datasets\n",
        "data_collator=DataCollatorForSeq2Seq(\n",
        "    tokenizer=tokenizer,\n",
        "    model=peft_model,\n",
        "    label_pad_token_id=label_pad_token_id,\n",
        "    pad_to_multiple_of=8\n",
        ")"
      ],
      "metadata": {
        "id": "Ylt163NEJLZf",
        "execution": {
          "iopub.status.busy": "2024-05-18T14:00:12.060222Z",
          "iopub.execute_input": "2024-05-18T14:00:12.060583Z",
          "iopub.status.idle": "2024-05-18T14:00:12.065900Z",
          "shell.execute_reply.started": "2024-05-18T14:00:12.060552Z",
          "shell.execute_reply": "2024-05-18T14:00:12.064910Z"
        },
        "trusted": true
      },
      "execution_count": null,
      "outputs": []
    },
    {
      "cell_type": "code",
      "source": [
        "# Output directory where the model predictions and checkpoints will be stored\n",
        "output_dir = \"/kaggle/working/checkpoints\"\n",
        "\n",
        "# Number of training epochs\n",
        "num_train_epochs = 1\n",
        "\n",
        "# Enable fp16/bf16 training (set bf16 to True with an A100)\n",
        "fp16 = False\n",
        "bf16 = False\n",
        "\n",
        "# Batch size per GPU for training\n",
        "per_device_train_batch_size = 8\n",
        "\n",
        "# Batch size per GPU for evaluation\n",
        "per_device_eval_batch_size = 2\n",
        "\n",
        "# Number of update steps to accumulate the gradients for\n",
        "gradient_accumulation_steps = 1\n",
        "\n",
        "# Enable gradient checkpointing\n",
        "gradient_checkpointing = True\n",
        "\n",
        "# Maximum gradient normal (gradient clipping)\n",
        "max_grad_norm = 0.3\n",
        "\n",
        "# Initial learning rate (AdamW optimizer)\n",
        "learning_rate = 2e-4\n",
        "\n",
        "# Weight decay to apply to all layers except bias/LayerNorm weights\n",
        "weight_decay = 0.001\n",
        "\n",
        "# Optimizer to use\n",
        "optim = \"paged_adamw_32bit\"\n",
        "\n",
        "# Learning rate schedule\n",
        "lr_scheduler_type = \"cosine\"\n",
        "\n",
        "# Number of training steps (overrides num_train_epochs)\n",
        "max_steps = -1\n",
        "\n",
        "# Ratio of steps for a linear warmup (from 0 to learning rate)\n",
        "warmup_ratio = 0.03\n",
        "\n",
        "# Group sequences into batches with same length\n",
        "# Saves memory and speeds up training considerably\n",
        "group_by_length = True\n",
        "\n",
        "# Save checkpoint every X updates steps\n",
        "save_steps = 0\n",
        "\n",
        "# Log every X updates steps\n",
        "logging_steps = 50\n",
        "\n",
        "# Set training parameters\n",
        "training_arguments = Seq2SeqTrainingArguments(\n",
        "    output_dir=output_dir,\n",
        "    num_train_epochs=num_train_epochs,\n",
        "    per_device_train_batch_size=per_device_train_batch_size,\n",
        "    per_device_eval_batch_size=per_device_eval_batch_size,\n",
        "    gradient_accumulation_steps=gradient_accumulation_steps,\n",
        "    optim=optim,\n",
        "    save_steps=save_steps,\n",
        "    logging_steps=logging_steps,\n",
        "    learning_rate=learning_rate,\n",
        "    weight_decay=weight_decay,\n",
        "    fp16=fp16,\n",
        "    bf16=bf16,\n",
        "    max_grad_norm=max_grad_norm,\n",
        "    max_steps=max_steps,\n",
        "    warmup_ratio=warmup_ratio,\n",
        "    group_by_length=group_by_length,\n",
        "    lr_scheduler_type=lr_scheduler_type,\n",
        "    report_to=\"tensorboard\"\n",
        ")"
      ],
      "metadata": {
        "execution": {
          "iopub.status.busy": "2024-05-18T13:59:44.799610Z",
          "iopub.execute_input": "2024-05-18T13:59:44.800509Z",
          "iopub.status.idle": "2024-05-18T13:59:44.811106Z",
          "shell.execute_reply.started": "2024-05-18T13:59:44.800474Z",
          "shell.execute_reply": "2024-05-18T13:59:44.810184Z"
        },
        "trusted": true,
        "id": "Tu-7A_9CW2qk"
      },
      "execution_count": null,
      "outputs": []
    },
    {
      "cell_type": "code",
      "source": [
        "trainer = Seq2SeqTrainer(\n",
        "    model=peft_model,\n",
        "    data_collator=data_collator,\n",
        "    train_dataset=train_dataset,\n",
        "    args=training_arguments,\n",
        "    eval_dataset=test_dataset,\n",
        "    compute_metrics=compute_metrics,\n",
        ")\n",
        "\n",
        "peft_model.config.use_cache=False\n",
        "peft_model.config.pretraining_tp = 1\n",
        "\n",
        "trainer.train()"
      ],
      "metadata": {
        "colab": {
          "base_uri": "https://localhost:8080/",
          "height": 1000
        },
        "id": "-qD9CGebqynH",
        "outputId": "1fe9a95b-0fc8-4e38-d87b-918ddeba1623",
        "execution": {
          "iopub.status.busy": "2024-05-18T08:51:51.935890Z",
          "iopub.execute_input": "2024-05-18T08:51:51.936231Z",
          "iopub.status.idle": "2024-05-18T10:11:05.705403Z",
          "shell.execute_reply.started": "2024-05-18T08:51:51.936206Z",
          "shell.execute_reply": "2024-05-18T10:11:05.703960Z"
        },
        "trusted": true
      },
      "execution_count": null,
      "outputs": [
        {
          "name": "stderr",
          "text": "You are using 8-bit optimizers with a version of `bitsandbytes` < 0.41.1. It is recommended to update your version as a major bug has been fixed in 8-bit optimizers.\nYou're using a T5TokenizerFast tokenizer. Please note that with a fast tokenizer, using the `__call__` method is faster than using a method to encode the text followed by a call to the `pad` method to get a padded encoding.\n/opt/conda/lib/python3.10/site-packages/torch/utils/checkpoint.py:429: UserWarning: torch.utils.checkpoint: please pass in use_reentrant=True or use_reentrant=False explicitly. The default value of use_reentrant will be updated to be False in the future. To maintain current behavior, pass use_reentrant=True. It is recommended that you use use_reentrant=False. Refer to docs for more details on the differences between the two variants.\n  warnings.warn(\n",
          "output_type": "stream"
        },
        {
          "output_type": "display_data",
          "data": {
            "text/plain": "<IPython.core.display.HTML object>",
            "text/html": "\n    <div>\n      \n      <progress value='2500' max='2530' style='width:300px; height:20px; vertical-align: middle;'></progress>\n      [2500/2530 1:18:53 < 00:56, 0.53 it/s, Epoch 0.99/1]\n    </div>\n    <table border=\"1\" class=\"dataframe\">\n  <thead>\n <tr style=\"text-align: left;\">\n      <th>Step</th>\n      <th>Training Loss</th>\n    </tr>\n  </thead>\n  <tbody>\n    <tr>\n      <td>50</td>\n      <td>18.598900</td>\n    </tr>\n    <tr>\n      <td>100</td>\n      <td>9.469700</td>\n    </tr>\n    <tr>\n      <td>150</td>\n      <td>1.536000</td>\n    </tr>\n    <tr>\n      <td>200</td>\n      <td>0.963900</td>\n    </tr>\n    <tr>\n      <td>250</td>\n      <td>0.867500</td>\n    </tr>\n    <tr>\n      <td>300</td>\n      <td>0.766700</td>\n    </tr>\n    <tr>\n      <td>350</td>\n      <td>0.708000</td>\n    </tr>\n    <tr>\n      <td>400</td>\n      <td>0.732500</td>\n    </tr>\n    <tr>\n      <td>450</td>\n      <td>0.750600</td>\n    </tr>\n    <tr>\n      <td>500</td>\n      <td>0.711700</td>\n    </tr>\n    <tr>\n      <td>550</td>\n      <td>0.673500</td>\n    </tr>\n    <tr>\n      <td>600</td>\n      <td>0.696100</td>\n    </tr>\n    <tr>\n      <td>650</td>\n      <td>0.614800</td>\n    </tr>\n    <tr>\n      <td>700</td>\n      <td>0.618100</td>\n    </tr>\n    <tr>\n      <td>750</td>\n      <td>0.647500</td>\n    </tr>\n    <tr>\n      <td>800</td>\n      <td>0.624900</td>\n    </tr>\n    <tr>\n      <td>850</td>\n      <td>0.674300</td>\n    </tr>\n    <tr>\n      <td>900</td>\n      <td>0.688300</td>\n    </tr>\n    <tr>\n      <td>950</td>\n      <td>0.635300</td>\n    </tr>\n    <tr>\n      <td>1000</td>\n      <td>0.634700</td>\n    </tr>\n    <tr>\n      <td>1050</td>\n      <td>0.663300</td>\n    </tr>\n    <tr>\n      <td>1100</td>\n      <td>0.649300</td>\n    </tr>\n    <tr>\n      <td>1150</td>\n      <td>0.590600</td>\n    </tr>\n    <tr>\n      <td>1200</td>\n      <td>0.687200</td>\n    </tr>\n    <tr>\n      <td>1250</td>\n      <td>0.629500</td>\n    </tr>\n    <tr>\n      <td>1300</td>\n      <td>0.616000</td>\n    </tr>\n    <tr>\n      <td>1350</td>\n      <td>0.595300</td>\n    </tr>\n    <tr>\n      <td>1400</td>\n      <td>0.659200</td>\n    </tr>\n    <tr>\n      <td>1450</td>\n      <td>0.586600</td>\n    </tr>\n    <tr>\n      <td>1500</td>\n      <td>0.556400</td>\n    </tr>\n    <tr>\n      <td>1550</td>\n      <td>0.612600</td>\n    </tr>\n    <tr>\n      <td>1600</td>\n      <td>0.672700</td>\n    </tr>\n    <tr>\n      <td>1650</td>\n      <td>0.673400</td>\n    </tr>\n    <tr>\n      <td>1700</td>\n      <td>0.650100</td>\n    </tr>\n    <tr>\n      <td>1750</td>\n      <td>0.617800</td>\n    </tr>\n    <tr>\n      <td>1800</td>\n      <td>0.603100</td>\n    </tr>\n    <tr>\n      <td>1850</td>\n      <td>0.605300</td>\n    </tr>\n    <tr>\n      <td>1900</td>\n      <td>0.610400</td>\n    </tr>\n    <tr>\n      <td>1950</td>\n      <td>0.609300</td>\n    </tr>\n    <tr>\n      <td>2000</td>\n      <td>0.641300</td>\n    </tr>\n    <tr>\n      <td>2050</td>\n      <td>0.599400</td>\n    </tr>\n    <tr>\n      <td>2100</td>\n      <td>0.646500</td>\n    </tr>\n    <tr>\n      <td>2150</td>\n      <td>0.620600</td>\n    </tr>\n    <tr>\n      <td>2200</td>\n      <td>0.594800</td>\n    </tr>\n    <tr>\n      <td>2250</td>\n      <td>0.645500</td>\n    </tr>\n    <tr>\n      <td>2300</td>\n      <td>0.636400</td>\n    </tr>\n    <tr>\n      <td>2350</td>\n      <td>0.648800</td>\n    </tr>\n    <tr>\n      <td>2400</td>\n      <td>0.595000</td>\n    </tr>\n    <tr>\n      <td>2450</td>\n      <td>0.587300</td>\n    </tr>\n  </tbody>\n</table><p>\n    <div>\n      \n      <progress value='300' max='150' style='width:300px; height:20px; vertical-align: middle;'></progress>\n      [150/150 02:00]\n    </div>\n    "
          },
          "metadata": {}
        },
        {
          "traceback": [
            "\u001b[0;31m---------------------------------------------------------------------------\u001b[0m",
            "\u001b[0;31mKeyboardInterrupt\u001b[0m                         Traceback (most recent call last)",
            "Cell \u001b[0;32mIn[15], line 90\u001b[0m\n\u001b[1;32m     87\u001b[0m peft_model\u001b[38;5;241m.\u001b[39mconfig\u001b[38;5;241m.\u001b[39mpretraining_tp \u001b[38;5;241m=\u001b[39m \u001b[38;5;241m1\u001b[39m\n\u001b[1;32m     89\u001b[0m \u001b[38;5;66;03m# Train model\u001b[39;00m\n\u001b[0;32m---> 90\u001b[0m \u001b[43mtrainer\u001b[49m\u001b[38;5;241;43m.\u001b[39;49m\u001b[43mtrain\u001b[49m\u001b[43m(\u001b[49m\u001b[43m)\u001b[49m\n",
            "File \u001b[0;32m/opt/conda/lib/python3.10/site-packages/transformers/trainer.py:1553\u001b[0m, in \u001b[0;36mTrainer.train\u001b[0;34m(self, resume_from_checkpoint, trial, ignore_keys_for_eval, **kwargs)\u001b[0m\n\u001b[1;32m   1551\u001b[0m         hf_hub_utils\u001b[38;5;241m.\u001b[39menable_progress_bars()\n\u001b[1;32m   1552\u001b[0m \u001b[38;5;28;01melse\u001b[39;00m:\n\u001b[0;32m-> 1553\u001b[0m     \u001b[38;5;28;01mreturn\u001b[39;00m \u001b[43minner_training_loop\u001b[49m\u001b[43m(\u001b[49m\n\u001b[1;32m   1554\u001b[0m \u001b[43m        \u001b[49m\u001b[43margs\u001b[49m\u001b[38;5;241;43m=\u001b[39;49m\u001b[43margs\u001b[49m\u001b[43m,\u001b[49m\n\u001b[1;32m   1555\u001b[0m \u001b[43m        \u001b[49m\u001b[43mresume_from_checkpoint\u001b[49m\u001b[38;5;241;43m=\u001b[39;49m\u001b[43mresume_from_checkpoint\u001b[49m\u001b[43m,\u001b[49m\n\u001b[1;32m   1556\u001b[0m \u001b[43m        \u001b[49m\u001b[43mtrial\u001b[49m\u001b[38;5;241;43m=\u001b[39;49m\u001b[43mtrial\u001b[49m\u001b[43m,\u001b[49m\n\u001b[1;32m   1557\u001b[0m \u001b[43m        \u001b[49m\u001b[43mignore_keys_for_eval\u001b[49m\u001b[38;5;241;43m=\u001b[39;49m\u001b[43mignore_keys_for_eval\u001b[49m\u001b[43m,\u001b[49m\n\u001b[1;32m   1558\u001b[0m \u001b[43m    \u001b[49m\u001b[43m)\u001b[49m\n",
            "File \u001b[0;32m/opt/conda/lib/python3.10/site-packages/transformers/trainer.py:1835\u001b[0m, in \u001b[0;36mTrainer._inner_training_loop\u001b[0;34m(self, batch_size, args, resume_from_checkpoint, trial, ignore_keys_for_eval)\u001b[0m\n\u001b[1;32m   1832\u001b[0m     \u001b[38;5;28mself\u001b[39m\u001b[38;5;241m.\u001b[39mcontrol \u001b[38;5;241m=\u001b[39m \u001b[38;5;28mself\u001b[39m\u001b[38;5;241m.\u001b[39mcallback_handler\u001b[38;5;241m.\u001b[39mon_step_begin(args, \u001b[38;5;28mself\u001b[39m\u001b[38;5;241m.\u001b[39mstate, \u001b[38;5;28mself\u001b[39m\u001b[38;5;241m.\u001b[39mcontrol)\n\u001b[1;32m   1834\u001b[0m \u001b[38;5;28;01mwith\u001b[39;00m \u001b[38;5;28mself\u001b[39m\u001b[38;5;241m.\u001b[39maccelerator\u001b[38;5;241m.\u001b[39maccumulate(model):\n\u001b[0;32m-> 1835\u001b[0m     tr_loss_step \u001b[38;5;241m=\u001b[39m \u001b[38;5;28;43mself\u001b[39;49m\u001b[38;5;241;43m.\u001b[39;49m\u001b[43mtraining_step\u001b[49m\u001b[43m(\u001b[49m\u001b[43mmodel\u001b[49m\u001b[43m,\u001b[49m\u001b[43m \u001b[49m\u001b[43minputs\u001b[49m\u001b[43m)\u001b[49m\n\u001b[1;32m   1837\u001b[0m \u001b[38;5;28;01mif\u001b[39;00m (\n\u001b[1;32m   1838\u001b[0m     args\u001b[38;5;241m.\u001b[39mlogging_nan_inf_filter\n\u001b[1;32m   1839\u001b[0m     \u001b[38;5;129;01mand\u001b[39;00m \u001b[38;5;129;01mnot\u001b[39;00m is_torch_tpu_available()\n\u001b[1;32m   1840\u001b[0m     \u001b[38;5;129;01mand\u001b[39;00m (torch\u001b[38;5;241m.\u001b[39misnan(tr_loss_step) \u001b[38;5;129;01mor\u001b[39;00m torch\u001b[38;5;241m.\u001b[39misinf(tr_loss_step))\n\u001b[1;32m   1841\u001b[0m ):\n\u001b[1;32m   1842\u001b[0m     \u001b[38;5;66;03m# if loss is nan or inf simply add the average of previous logged losses\u001b[39;00m\n\u001b[1;32m   1843\u001b[0m     tr_loss \u001b[38;5;241m+\u001b[39m\u001b[38;5;241m=\u001b[39m tr_loss \u001b[38;5;241m/\u001b[39m (\u001b[38;5;241m1\u001b[39m \u001b[38;5;241m+\u001b[39m \u001b[38;5;28mself\u001b[39m\u001b[38;5;241m.\u001b[39mstate\u001b[38;5;241m.\u001b[39mglobal_step \u001b[38;5;241m-\u001b[39m \u001b[38;5;28mself\u001b[39m\u001b[38;5;241m.\u001b[39m_globalstep_last_logged)\n",
            "File \u001b[0;32m/opt/conda/lib/python3.10/site-packages/transformers/trainer.py:2690\u001b[0m, in \u001b[0;36mTrainer.training_step\u001b[0;34m(self, model, inputs)\u001b[0m\n\u001b[1;32m   2688\u001b[0m         scaled_loss\u001b[38;5;241m.\u001b[39mbackward()\n\u001b[1;32m   2689\u001b[0m \u001b[38;5;28;01melse\u001b[39;00m:\n\u001b[0;32m-> 2690\u001b[0m     \u001b[38;5;28;43mself\u001b[39;49m\u001b[38;5;241;43m.\u001b[39;49m\u001b[43maccelerator\u001b[49m\u001b[38;5;241;43m.\u001b[39;49m\u001b[43mbackward\u001b[49m\u001b[43m(\u001b[49m\u001b[43mloss\u001b[49m\u001b[43m)\u001b[49m\n\u001b[1;32m   2692\u001b[0m \u001b[38;5;28;01mreturn\u001b[39;00m loss\u001b[38;5;241m.\u001b[39mdetach() \u001b[38;5;241m/\u001b[39m \u001b[38;5;28mself\u001b[39m\u001b[38;5;241m.\u001b[39margs\u001b[38;5;241m.\u001b[39mgradient_accumulation_steps\n",
            "File \u001b[0;32m/opt/conda/lib/python3.10/site-packages/accelerate/accelerator.py:1853\u001b[0m, in \u001b[0;36mAccelerator.backward\u001b[0;34m(self, loss, **kwargs)\u001b[0m\n\u001b[1;32m   1851\u001b[0m     \u001b[38;5;28mself\u001b[39m\u001b[38;5;241m.\u001b[39mscaler\u001b[38;5;241m.\u001b[39mscale(loss)\u001b[38;5;241m.\u001b[39mbackward(\u001b[38;5;241m*\u001b[39m\u001b[38;5;241m*\u001b[39mkwargs)\n\u001b[1;32m   1852\u001b[0m \u001b[38;5;28;01melse\u001b[39;00m:\n\u001b[0;32m-> 1853\u001b[0m     \u001b[43mloss\u001b[49m\u001b[38;5;241;43m.\u001b[39;49m\u001b[43mbackward\u001b[49m\u001b[43m(\u001b[49m\u001b[38;5;241;43m*\u001b[39;49m\u001b[38;5;241;43m*\u001b[39;49m\u001b[43mkwargs\u001b[49m\u001b[43m)\u001b[49m\n",
            "File \u001b[0;32m/opt/conda/lib/python3.10/site-packages/torch/_tensor.py:492\u001b[0m, in \u001b[0;36mTensor.backward\u001b[0;34m(self, gradient, retain_graph, create_graph, inputs)\u001b[0m\n\u001b[1;32m    482\u001b[0m \u001b[38;5;28;01mif\u001b[39;00m has_torch_function_unary(\u001b[38;5;28mself\u001b[39m):\n\u001b[1;32m    483\u001b[0m     \u001b[38;5;28;01mreturn\u001b[39;00m handle_torch_function(\n\u001b[1;32m    484\u001b[0m         Tensor\u001b[38;5;241m.\u001b[39mbackward,\n\u001b[1;32m    485\u001b[0m         (\u001b[38;5;28mself\u001b[39m,),\n\u001b[0;32m   (...)\u001b[0m\n\u001b[1;32m    490\u001b[0m         inputs\u001b[38;5;241m=\u001b[39minputs,\n\u001b[1;32m    491\u001b[0m     )\n\u001b[0;32m--> 492\u001b[0m \u001b[43mtorch\u001b[49m\u001b[38;5;241;43m.\u001b[39;49m\u001b[43mautograd\u001b[49m\u001b[38;5;241;43m.\u001b[39;49m\u001b[43mbackward\u001b[49m\u001b[43m(\u001b[49m\n\u001b[1;32m    493\u001b[0m \u001b[43m    \u001b[49m\u001b[38;5;28;43mself\u001b[39;49m\u001b[43m,\u001b[49m\u001b[43m \u001b[49m\u001b[43mgradient\u001b[49m\u001b[43m,\u001b[49m\u001b[43m \u001b[49m\u001b[43mretain_graph\u001b[49m\u001b[43m,\u001b[49m\u001b[43m \u001b[49m\u001b[43mcreate_graph\u001b[49m\u001b[43m,\u001b[49m\u001b[43m \u001b[49m\u001b[43minputs\u001b[49m\u001b[38;5;241;43m=\u001b[39;49m\u001b[43minputs\u001b[49m\n\u001b[1;32m    494\u001b[0m \u001b[43m\u001b[49m\u001b[43m)\u001b[49m\n",
            "File \u001b[0;32m/opt/conda/lib/python3.10/site-packages/torch/autograd/__init__.py:251\u001b[0m, in \u001b[0;36mbackward\u001b[0;34m(tensors, grad_tensors, retain_graph, create_graph, grad_variables, inputs)\u001b[0m\n\u001b[1;32m    246\u001b[0m     retain_graph \u001b[38;5;241m=\u001b[39m create_graph\n\u001b[1;32m    248\u001b[0m \u001b[38;5;66;03m# The reason we repeat the same comment below is that\u001b[39;00m\n\u001b[1;32m    249\u001b[0m \u001b[38;5;66;03m# some Python versions print out the first line of a multi-line function\u001b[39;00m\n\u001b[1;32m    250\u001b[0m \u001b[38;5;66;03m# calls in the traceback and some print out the last line\u001b[39;00m\n\u001b[0;32m--> 251\u001b[0m \u001b[43mVariable\u001b[49m\u001b[38;5;241;43m.\u001b[39;49m\u001b[43m_execution_engine\u001b[49m\u001b[38;5;241;43m.\u001b[39;49m\u001b[43mrun_backward\u001b[49m\u001b[43m(\u001b[49m\u001b[43m  \u001b[49m\u001b[38;5;66;43;03m# Calls into the C++ engine to run the backward pass\u001b[39;49;00m\n\u001b[1;32m    252\u001b[0m \u001b[43m    \u001b[49m\u001b[43mtensors\u001b[49m\u001b[43m,\u001b[49m\n\u001b[1;32m    253\u001b[0m \u001b[43m    \u001b[49m\u001b[43mgrad_tensors_\u001b[49m\u001b[43m,\u001b[49m\n\u001b[1;32m    254\u001b[0m \u001b[43m    \u001b[49m\u001b[43mretain_graph\u001b[49m\u001b[43m,\u001b[49m\n\u001b[1;32m    255\u001b[0m \u001b[43m    \u001b[49m\u001b[43mcreate_graph\u001b[49m\u001b[43m,\u001b[49m\n\u001b[1;32m    256\u001b[0m \u001b[43m    \u001b[49m\u001b[43minputs\u001b[49m\u001b[43m,\u001b[49m\n\u001b[1;32m    257\u001b[0m \u001b[43m    \u001b[49m\u001b[43mallow_unreachable\u001b[49m\u001b[38;5;241;43m=\u001b[39;49m\u001b[38;5;28;43;01mTrue\u001b[39;49;00m\u001b[43m,\u001b[49m\n\u001b[1;32m    258\u001b[0m \u001b[43m    \u001b[49m\u001b[43maccumulate_grad\u001b[49m\u001b[38;5;241;43m=\u001b[39;49m\u001b[38;5;28;43;01mTrue\u001b[39;49;00m\u001b[43m,\u001b[49m\n\u001b[1;32m    259\u001b[0m \u001b[43m\u001b[49m\u001b[43m)\u001b[49m\n",
            "\u001b[0;31mKeyboardInterrupt\u001b[0m: "
          ],
          "ename": "KeyboardInterrupt",
          "evalue": "",
          "output_type": "error"
        }
      ]
    },
    {
      "cell_type": "code",
      "source": [
        "import matplotlib.pyplot as plt\n",
        "\n",
        "history = trainer.state.log_history\n",
        "train_losses = []\n",
        "epochs = []\n",
        "\n",
        "for log in history:\n",
        "    train_losses.append(log['loss'])\n",
        "    epochs.append(log['epoch'])\n",
        "\n",
        "plt.figure(figsize=(10, 5))\n",
        "plt.plot(epochs, train_losses, label='Training Loss')\n",
        "plt.xlabel('Epochs')\n",
        "plt.ylabel('Loss')\n",
        "plt.title('Training and Evaluation Loss')\n",
        "plt.legend()\n",
        "plt.show()"
      ],
      "metadata": {
        "execution": {
          "iopub.status.busy": "2024-05-18T10:13:42.429249Z",
          "iopub.execute_input": "2024-05-18T10:13:42.430072Z",
          "iopub.status.idle": "2024-05-18T10:13:42.764840Z",
          "shell.execute_reply.started": "2024-05-18T10:13:42.430032Z",
          "shell.execute_reply": "2024-05-18T10:13:42.763938Z"
        },
        "trusted": true,
        "id": "3sjmGMTtW2qk",
        "outputId": "425d38d1-6c12-4aee-ebd3-c1ce88dfff1e"
      },
      "execution_count": null,
      "outputs": [
        {
          "output_type": "display_data",
          "data": {
            "text/plain": "<Figure size 1000x500 with 1 Axes>",
            "image/png": "[encoded data removed]"
          },
          "metadata": {}
        }
      ]
    },
    {
      "cell_type": "code",
      "source": [
        "trainer.model.save_pretrained(new_model)"
      ],
      "metadata": {
        "execution": {
          "iopub.status.busy": "2024-05-18T10:20:20.285267Z",
          "iopub.execute_input": "2024-05-18T10:20:20.285977Z",
          "iopub.status.idle": "2024-05-18T10:20:20.389334Z",
          "shell.execute_reply.started": "2024-05-18T10:20:20.285944Z",
          "shell.execute_reply": "2024-05-18T10:20:20.388565Z"
        },
        "trusted": true,
        "id": "cMVxaO6YW2qk"
      },
      "execution_count": null,
      "outputs": []
    },
    {
      "cell_type": "markdown",
      "source": [
        "# Push model to hugging face"
      ],
      "metadata": {
        "id": "QmHvGwF4W2qk"
      }
    },
    {
      "cell_type": "code",
      "source": [
        "# Empty VRAM\n",
        "del model\n",
        "del peft_model\n",
        "del trainer\n",
        "import gc\n",
        "gc.collect()\n",
        "gc.collect()"
      ],
      "metadata": {
        "id": "U3uakSlJBhWV",
        "execution": {
          "iopub.status.busy": "2024-05-18T10:11:05.710770Z",
          "iopub.status.idle": "2024-05-18T10:11:05.711202Z",
          "shell.execute_reply.started": "2024-05-18T10:11:05.710976Z",
          "shell.execute_reply": "2024-05-18T10:11:05.710994Z"
        },
        "trusted": true
      },
      "execution_count": null,
      "outputs": []
    },
    {
      "cell_type": "code",
      "source": [
        "base_model = AutoModelForSeq2SeqLM.from_pretrained(\n",
        "    model_name,\n",
        "    low_cpu_mem_usage=True,\n",
        "    return_dict=True,\n",
        "    torch_dtype=torch.float16,\n",
        "    device_map=device_map,\n",
        ")\n",
        "peft_model = PeftModel.from_pretrained(base_model, new_model)\n",
        "peft_model = peft_model.merge_and_unload()\n",
        "\n",
        "# Reload tokenizer to save it\n",
        "tokenizer = AutoTokenizer.from_pretrained(model_name, model_max_length=512)"
      ],
      "metadata": {
        "id": "DbgvPK9NBiph",
        "execution": {
          "iopub.status.busy": "2024-05-18T10:21:19.753780Z",
          "iopub.execute_input": "2024-05-18T10:21:19.754628Z",
          "iopub.status.idle": "2024-05-18T10:21:27.408639Z",
          "shell.execute_reply.started": "2024-05-18T10:21:19.754592Z",
          "shell.execute_reply": "2024-05-18T10:21:27.407616Z"
        },
        "trusted": true
      },
      "execution_count": null,
      "outputs": []
    },
    {
      "cell_type": "code",
      "source": [
        "from huggingface_hub import notebook_login\n",
        "\n",
        "notebook_login()"
      ],
      "metadata": {
        "id": "CGgc04sFGTZ5",
        "execution": {
          "iopub.status.busy": "2024-05-18T10:59:57.489430Z",
          "iopub.execute_input": "2024-05-18T10:59:57.490155Z",
          "iopub.status.idle": "2024-05-18T10:59:57.515842Z",
          "shell.execute_reply.started": "2024-05-18T10:59:57.490123Z",
          "shell.execute_reply": "2024-05-18T10:59:57.514932Z"
        },
        "trusted": true,
        "colab": {
          "referenced_widgets": [
            "2743a8a3c223410ba25cd9c246bf867c"
          ]
        },
        "outputId": "c78034bc-8c86-432f-9890-bb2b6b90872c"
      },
      "execution_count": null,
      "outputs": [
        {
          "output_type": "display_data",
          "data": {
            "text/plain": "VBox(children=(HTML(value='<center> <img\\nsrc=https://huggingface.co/front/assets/huggingface_logo-noborder.sv…",
            "application/vnd.jupyter.widget-view+json": {
              "version_major": 2,
              "version_minor": 0,
              "model_id": "2743a8a3c223410ba25cd9c246bf867c"
            }
          },
          "metadata": {}
        }
      ]
    },
    {
      "cell_type": "code",
      "source": [
        "peft_model.push_to_hub(new_model)\n",
        "tokenizer.push_to_hub(new_model)"
      ],
      "metadata": {
        "id": "PmISs_tTBp9F",
        "execution": {
          "iopub.status.busy": "2024-05-18T10:24:07.842971Z",
          "iopub.execute_input": "2024-05-18T10:24:07.843302Z",
          "iopub.status.idle": "2024-05-18T10:25:40.890160Z",
          "shell.execute_reply.started": "2024-05-18T10:24:07.843276Z",
          "shell.execute_reply": "2024-05-18T10:25:40.889077Z"
        },
        "trusted": true,
        "colab": {
          "referenced_widgets": [
            "3d0cf9f76ffe4b09be78de4fc95187bc",
            "e32ea9c9d7b04db2a5cabe82f79e321c"
          ]
        },
        "outputId": "e90ea194-3f5b-4e12-9335-873a50451751"
      },
      "execution_count": null,
      "outputs": [
        {
          "output_type": "display_data",
          "data": {
            "text/plain": "pytorch_model.bin:   0%|          | 0.00/1.88G [00:00<?, ?B/s]",
            "application/vnd.jupyter.widget-view+json": {
              "version_major": 2,
              "version_minor": 0,
              "model_id": "3d0cf9f76ffe4b09be78de4fc95187bc"
            }
          },
          "metadata": {}
        },
        {
          "output_type": "display_data",
          "data": {
            "text/plain": "spiece.model:   0%|          | 0.00/792k [00:00<?, ?B/s]",
            "application/vnd.jupyter.widget-view+json": {
              "version_major": 2,
              "version_minor": 0,
              "model_id": "e32ea9c9d7b04db2a5cabe82f79e321c"
            }
          },
          "metadata": {}
        },
        {
          "execution_count": 25,
          "output_type": "execute_result",
          "data": {
            "text/plain": "CommitInfo(commit_url='https://huggingface.co/baesad/t5-large-fine-tune/commit/721894bd98b1160ff719509ee5a6a0dcb47a7b2d', commit_message='Upload tokenizer', commit_description='', oid='721894bd98b1160ff719509ee5a6a0dcb47a7b2d', pr_url=None, pr_revision=None, pr_num=None)"
          },
          "metadata": {}
        }
      ]
    },
    {
      "cell_type": "markdown",
      "source": [
        "# Evaluate"
      ],
      "metadata": {
        "id": "_LaOLxxPW2qk"
      }
    },
    {
      "cell_type": "code",
      "source": [
        "device = torch.device(\"cuda\" if torch.cuda.is_available() else \"cpu\")\n",
        "device"
      ],
      "metadata": {
        "id": "cASYUEJJCwzY",
        "execution": {
          "iopub.status.busy": "2024-05-18T13:58:23.993540Z",
          "iopub.execute_input": "2024-05-18T13:58:23.993919Z",
          "iopub.status.idle": "2024-05-18T13:58:24.000749Z",
          "shell.execute_reply.started": "2024-05-18T13:58:23.993887Z",
          "shell.execute_reply": "2024-05-18T13:58:23.999677Z"
        },
        "trusted": true,
        "outputId": "c15558b4-113f-455b-f64a-d45dbaba8f0c"
      },
      "execution_count": null,
      "outputs": [
        {
          "execution_count": 14,
          "output_type": "execute_result",
          "data": {
            "text/plain": "device(type='cuda')"
          },
          "metadata": {}
        }
      ]
    },
    {
      "cell_type": "code",
      "source": [
        "tokenizer = AutoTokenizer.from_pretrained(\"baesad/t5-large-fine-tune\",\n",
        "                                          model_max_length=512)\n",
        "peft_model = AutoModelForSeq2SeqLM.from_pretrained(\"baesad/t5-large-fine-tune\")"
      ],
      "metadata": {
        "id": "nOGra9OGKVWJ",
        "execution": {
          "iopub.status.busy": "2024-05-18T13:57:56.371696Z",
          "iopub.execute_input": "2024-05-18T13:57:56.372081Z",
          "iopub.status.idle": "2024-05-18T13:58:14.977468Z",
          "shell.execute_reply.started": "2024-05-18T13:57:56.372053Z",
          "shell.execute_reply": "2024-05-18T13:58:14.976388Z"
        },
        "trusted": true,
        "colab": {
          "referenced_widgets": [
            "22d5944f325b4d059f0e6ff4d0df6db7",
            "9590d2b06e724678ab093c80feb2a7ae",
            "0a1b872fa5db491a925229d51e756165",
            "ecc9430f6c4242ef8db04a4a6938aff4",
            "1f0263a55be64ee185c0895db177f035",
            "fe2af4cbd2584e468bf61a8536fda728",
            "90b2fbc1a7b64390947cdfed432e9923"
          ]
        },
        "outputId": "e9abeae1-838c-486f-900d-5e9dbdb3c93a"
      },
      "execution_count": null,
      "outputs": [
        {
          "output_type": "display_data",
          "data": {
            "text/plain": "tokenizer_config.json:   0%|          | 0.00/2.32k [00:00<?, ?B/s]",
            "application/vnd.jupyter.widget-view+json": {
              "version_major": 2,
              "version_minor": 0,
              "model_id": "22d5944f325b4d059f0e6ff4d0df6db7"
            }
          },
          "metadata": {}
        },
        {
          "output_type": "display_data",
          "data": {
            "text/plain": "spiece.model:   0%|          | 0.00/792k [00:00<?, ?B/s]",
            "application/vnd.jupyter.widget-view+json": {
              "version_major": 2,
              "version_minor": 0,
              "model_id": "9590d2b06e724678ab093c80feb2a7ae"
            }
          },
          "metadata": {}
        },
        {
          "output_type": "display_data",
          "data": {
            "text/plain": "tokenizer.json:   0%|          | 0.00/2.42M [00:00<?, ?B/s]",
            "application/vnd.jupyter.widget-view+json": {
              "version_major": 2,
              "version_minor": 0,
              "model_id": "0a1b872fa5db491a925229d51e756165"
            }
          },
          "metadata": {}
        },
        {
          "output_type": "display_data",
          "data": {
            "text/plain": "special_tokens_map.json:   0%|          | 0.00/2.20k [00:00<?, ?B/s]",
            "application/vnd.jupyter.widget-view+json": {
              "version_major": 2,
              "version_minor": 0,
              "model_id": "ecc9430f6c4242ef8db04a4a6938aff4"
            }
          },
          "metadata": {}
        },
        {
          "output_type": "display_data",
          "data": {
            "text/plain": "config.json:   0%|          | 0.00/1.52k [00:00<?, ?B/s]",
            "application/vnd.jupyter.widget-view+json": {
              "version_major": 2,
              "version_minor": 0,
              "model_id": "1f0263a55be64ee185c0895db177f035"
            }
          },
          "metadata": {}
        },
        {
          "output_type": "display_data",
          "data": {
            "text/plain": "pytorch_model.bin:   0%|          | 0.00/1.88G [00:00<?, ?B/s]",
            "application/vnd.jupyter.widget-view+json": {
              "version_major": 2,
              "version_minor": 0,
              "model_id": "fe2af4cbd2584e468bf61a8536fda728"
            }
          },
          "metadata": {}
        },
        {
          "output_type": "display_data",
          "data": {
            "text/plain": "generation_config.json:   0%|          | 0.00/142 [00:00<?, ?B/s]",
            "application/vnd.jupyter.widget-view+json": {
              "version_major": 2,
              "version_minor": 0,
              "model_id": "90b2fbc1a7b64390947cdfed432e9923"
            }
          },
          "metadata": {}
        }
      ]
    },
    {
      "cell_type": "code",
      "source": [
        "!pip install evaluate"
      ],
      "metadata": {
        "execution": {
          "iopub.status.busy": "2024-05-18T13:57:18.035033Z",
          "iopub.execute_input": "2024-05-18T13:57:18.035324Z",
          "iopub.status.idle": "2024-05-18T13:57:31.039363Z",
          "shell.execute_reply.started": "2024-05-18T13:57:18.035299Z",
          "shell.execute_reply": "2024-05-18T13:57:31.038342Z"
        },
        "trusted": true,
        "id": "MAWcZz2uW2qj",
        "outputId": "6240d6a2-9337-4dab-9fce-70516ca1144d"
      },
      "execution_count": null,
      "outputs": [
        {
          "name": "stdout",
          "text": "huggingface/tokenizers: The current process just got forked, after parallelism has already been used. Disabling parallelism to avoid deadlocks...\nTo disable this warning, you can either:\n\t- Avoid using `tokenizers` before the fork if possible\n\t- Explicitly set the environment variable TOKENIZERS_PARALLELISM=(true | false)\nCollecting evaluate\n  Downloading evaluate-0.4.2-py3-none-any.whl.metadata (9.3 kB)\nRequirement already satisfied: datasets>=2.0.0 in /opt/conda/lib/python3.10/site-packages (from evaluate) (2.18.0)\nRequirement already satisfied: numpy>=1.17 in /opt/conda/lib/python3.10/site-packages (from evaluate) (1.26.4)\nRequirement already satisfied: dill in /opt/conda/lib/python3.10/site-packages (from evaluate) (0.3.8)\nRequirement already satisfied: pandas in /opt/conda/lib/python3.10/site-packages (from evaluate) (2.1.4)\nRequirement already satisfied: requests>=2.19.0 in /opt/conda/lib/python3.10/site-packages (from evaluate) (2.31.0)\nRequirement already satisfied: tqdm>=4.62.1 in /opt/conda/lib/python3.10/site-packages (from evaluate) (4.66.1)\nRequirement already satisfied: xxhash in /opt/conda/lib/python3.10/site-packages (from evaluate) (3.4.1)\nRequirement already satisfied: multiprocess in /opt/conda/lib/python3.10/site-packages (from evaluate) (0.70.16)\nRequirement already satisfied: fsspec>=2021.05.0 in /opt/conda/lib/python3.10/site-packages (from fsspec[http]>=2021.05.0->evaluate) (2024.2.0)\nRequirement already satisfied: huggingface-hub>=0.7.0 in /opt/conda/lib/python3.10/site-packages (from evaluate) (0.22.2)\nRequirement already satisfied: packaging in /opt/conda/lib/python3.10/site-packages (from evaluate) (21.3)\nRequirement already satisfied: filelock in /opt/conda/lib/python3.10/site-packages (from datasets>=2.0.0->evaluate) (3.13.1)\nRequirement already satisfied: pyarrow>=12.0.0 in /opt/conda/lib/python3.10/site-packages (from datasets>=2.0.0->evaluate) (15.0.2)\nRequirement already satisfied: pyarrow-hotfix in /opt/conda/lib/python3.10/site-packages (from datasets>=2.0.0->evaluate) (0.6)\nRequirement already satisfied: aiohttp in /opt/conda/lib/python3.10/site-packages (from datasets>=2.0.0->evaluate) (3.9.1)\nRequirement already satisfied: pyyaml>=5.1 in /opt/conda/lib/python3.10/site-packages (from datasets>=2.0.0->evaluate) (6.0.1)\nRequirement already satisfied: typing-extensions>=3.7.4.3 in /opt/conda/lib/python3.10/site-packages (from huggingface-hub>=0.7.0->evaluate) (4.9.0)\nRequirement already satisfied: pyparsing!=3.0.5,>=2.0.2 in /opt/conda/lib/python3.10/site-packages (from packaging->evaluate) (3.1.1)\nRequirement already satisfied: charset-normalizer<4,>=2 in /opt/conda/lib/python3.10/site-packages (from requests>=2.19.0->evaluate) (3.3.2)\nRequirement already satisfied: idna<4,>=2.5 in /opt/conda/lib/python3.10/site-packages (from requests>=2.19.0->evaluate) (3.6)\nRequirement already satisfied: urllib3<3,>=1.21.1 in /opt/conda/lib/python3.10/site-packages (from requests>=2.19.0->evaluate) (1.26.18)\nRequirement already satisfied: certifi>=2017.4.17 in /opt/conda/lib/python3.10/site-packages (from requests>=2.19.0->evaluate) (2024.2.2)\nRequirement already satisfied: python-dateutil>=2.8.2 in /opt/conda/lib/python3.10/site-packages (from pandas->evaluate) (2.9.0.post0)\nRequirement already satisfied: pytz>=2020.1 in /opt/conda/lib/python3.10/site-packages (from pandas->evaluate) (2023.3.post1)\nRequirement already satisfied: tzdata>=2022.1 in /opt/conda/lib/python3.10/site-packages (from pandas->evaluate) (2023.4)\nRequirement already satisfied: attrs>=17.3.0 in /opt/conda/lib/python3.10/site-packages (from aiohttp->datasets>=2.0.0->evaluate) (23.2.0)\nRequirement already satisfied: multidict<7.0,>=4.5 in /opt/conda/lib/python3.10/site-packages (from aiohttp->datasets>=2.0.0->evaluate) (6.0.4)\nRequirement already satisfied: yarl<2.0,>=1.0 in /opt/conda/lib/python3.10/site-packages (from aiohttp->datasets>=2.0.0->evaluate) (1.9.3)\nRequirement already satisfied: frozenlist>=1.1.1 in /opt/conda/lib/python3.10/site-packages (from aiohttp->datasets>=2.0.0->evaluate) (1.4.1)\nRequirement already satisfied: aiosignal>=1.1.2 in /opt/conda/lib/python3.10/site-packages (from aiohttp->datasets>=2.0.0->evaluate) (1.3.1)\nRequirement already satisfied: async-timeout<5.0,>=4.0 in /opt/conda/lib/python3.10/site-packages (from aiohttp->datasets>=2.0.0->evaluate) (4.0.3)\nRequirement already satisfied: six>=1.5 in /opt/conda/lib/python3.10/site-packages (from python-dateutil>=2.8.2->pandas->evaluate) (1.16.0)\nDownloading evaluate-0.4.2-py3-none-any.whl (84 kB)\n\u001b[2K   \u001b[90m━━━━━━━━━━━━━━━━━━━━━━━━━━━━━━━━━━━━━━━━\u001b[0m \u001b[32m84.1/84.1 kB\u001b[0m \u001b[31m948.2 kB/s\u001b[0m eta \u001b[36m0:00:00\u001b[0m\u001b[36m0:00:01\u001b[0m0m\n\u001b[?25hInstalling collected packages: evaluate\nSuccessfully installed evaluate-0.4.2\n",
          "output_type": "stream"
        }
      ]
    },
    {
      "cell_type": "code",
      "source": [
        "!pip install rouge_score"
      ],
      "metadata": {
        "execution": {
          "iopub.status.busy": "2024-05-18T14:57:12.899545Z",
          "iopub.execute_input": "2024-05-18T14:57:12.900455Z",
          "iopub.status.idle": "2024-05-18T14:57:28.264075Z",
          "shell.execute_reply.started": "2024-05-18T14:57:12.900419Z",
          "shell.execute_reply": "2024-05-18T14:57:28.263015Z"
        },
        "trusted": true,
        "id": "RaYpZmZlW2ql",
        "outputId": "54292518-4231-4f6d-97cb-39e52fc6d56d"
      },
      "execution_count": null,
      "outputs": [
        {
          "name": "stdout",
          "text": "huggingface/tokenizers: The current process just got forked, after parallelism has already been used. Disabling parallelism to avoid deadlocks...\nTo disable this warning, you can either:\n\t- Avoid using `tokenizers` before the fork if possible\n\t- Explicitly set the environment variable TOKENIZERS_PARALLELISM=(true | false)\nCollecting rouge_score\n  Downloading rouge_score-0.1.2.tar.gz (17 kB)\n  Preparing metadata (setup.py) ... \u001b[?25ldone\n\u001b[?25hRequirement already satisfied: absl-py in /opt/conda/lib/python3.10/site-packages (from rouge_score) (1.4.0)\nRequirement already satisfied: nltk in /opt/conda/lib/python3.10/site-packages (from rouge_score) (3.2.4)\nRequirement already satisfied: numpy in /opt/conda/lib/python3.10/site-packages (from rouge_score) (1.26.4)\nRequirement already satisfied: six>=1.14.0 in /opt/conda/lib/python3.10/site-packages (from rouge_score) (1.16.0)\nBuilding wheels for collected packages: rouge_score\n  Building wheel for rouge_score (setup.py) ... \u001b[?25ldone\n\u001b[?25h  Created wheel for rouge_score: filename=rouge_score-0.1.2-py3-none-any.whl size=24934 sha256=42c52a10e0f73f1782d25f21673b68517a30fb07b8dabb04789054d8dbb0915d\n  Stored in directory: /root/.cache/pip/wheels/5f/dd/89/461065a73be61a532ff8599a28e9beef17985c9e9c31e541b4\nSuccessfully built rouge_score\nInstalling collected packages: rouge_score\nSuccessfully installed rouge_score-0.1.2\n",
          "output_type": "stream"
        }
      ]
    },
    {
      "cell_type": "code",
      "source": [
        "import evaluate\n",
        "import numpy as np\n",
        "\n",
        "rouge = evaluate.load('rouge')\n",
        "exact_match_metric = evaluate.load(\"exact_match\")\n",
        "\n",
        "def compute_metrics(p):\n",
        "    predictions, labels=p\n",
        "    if isinstance(predictions, tuple):\n",
        "        predictions = predictions[0]\n",
        "    predictions = np.argmax(predictions, axis=-1)\n",
        "\n",
        "    decoded_preds = tokenizer.batch_decode(predictions, skip_special_tokens=True)\n",
        "    decoded_labels = tokenizer.batch_decode(labels, skip_special_tokens=True)\n",
        "    rouge_metric = rouge.compute(predictions=decoded_preds, references=decoded_labels)\n",
        "    exact_match = exact_match_metric.compute(predictions=decoded_preds, references=decoded_labels)\n",
        "    results = rouge_metric|exact_match\n",
        "    return results"
      ],
      "metadata": {
        "execution": {
          "iopub.status.busy": "2024-05-18T15:24:09.733184Z",
          "iopub.execute_input": "2024-05-18T15:24:09.733946Z",
          "iopub.status.idle": "2024-05-18T15:24:10.373495Z",
          "shell.execute_reply.started": "2024-05-18T15:24:09.733913Z",
          "shell.execute_reply": "2024-05-18T15:24:10.372558Z"
        },
        "trusted": true,
        "id": "fxmVGtkeW2ql"
      },
      "execution_count": null,
      "outputs": []
    },
    {
      "cell_type": "code",
      "source": [
        "peft_model.to(device)\n",
        "\n",
        "trainer = Seq2SeqTrainer(\n",
        "    model=peft_model,\n",
        "    args=training_arguments,\n",
        "    train_dataset=train_dataset,\n",
        "    compute_metrics=compute_metrics ,\n",
        "    data_collator=data_collator\n",
        ")\n",
        "\n",
        "eval_results = trainer.evaluate(test_dataset.select(range(500)))\n",
        "print(eval_results)"
      ],
      "metadata": {
        "execution": {
          "iopub.status.busy": "2024-05-18T15:24:26.616056Z",
          "iopub.execute_input": "2024-05-18T15:24:26.616848Z",
          "iopub.status.idle": "2024-05-18T15:25:54.646021Z",
          "shell.execute_reply.started": "2024-05-18T15:24:26.616817Z",
          "shell.execute_reply": "2024-05-18T15:25:54.644941Z"
        },
        "trusted": true,
        "id": "uclYioLBW2qp",
        "outputId": "354ff7ff-78f1-4f91-d54d-f2070c27a084"
      },
      "execution_count": null,
      "outputs": [
        {
          "output_type": "display_data",
          "data": {
            "text/plain": "<IPython.core.display.HTML object>",
            "text/html": "\n    <div>\n      \n      <progress value='125' max='125' style='width:300px; height:20px; vertical-align: middle;'></progress>\n      [125/125 01:24]\n    </div>\n    "
          },
          "metadata": {}
        },
        {
          "name": "stdout",
          "text": "{'eval_loss': 0.47094470262527466, 'eval_rouge1': 0.570362392262171, 'eval_rouge2': 0.3326132069856533, 'eval_rougeL': 0.5663252616537381, 'eval_rougeLsum': 0.5677817380664534, 'eval_exact_match': 0.05, 'eval_runtime': 87.8179, 'eval_samples_per_second': 5.694, 'eval_steps_per_second': 1.423}\n",
          "output_type": "stream"
        }
      ]
    },
    {
      "cell_type": "markdown",
      "source": [
        "# Inference"
      ],
      "metadata": {
        "id": "NlpBHTUBW2ql"
      }
    },
    {
      "cell_type": "code",
      "source": [
        "def extract_keyphrase(text):\n",
        "  context=tokenizer([text], return_tensors=\"pt\").to(device)\n",
        "  output = peft_model.generate(**context, max_new_tokens=100)\n",
        "  output = tokenizer.decode(output[0], skip_special_tokens=True)\n",
        "  return output"
      ],
      "metadata": {
        "execution": {
          "iopub.status.busy": "2024-05-18T10:29:53.594169Z",
          "iopub.execute_input": "2024-05-18T10:29:53.594816Z",
          "iopub.status.idle": "2024-05-18T10:29:53.609866Z",
          "shell.execute_reply.started": "2024-05-18T10:29:53.594783Z",
          "shell.execute_reply": "2024-05-18T10:29:53.609066Z"
        },
        "trusted": true,
        "id": "kD7AiL5OW2qp"
      },
      "execution_count": null,
      "outputs": []
    },
    {
      "cell_type": "code",
      "source": [
        "text = \"\"\"\n",
        "GPT-4o is our newest flagship model that provides GPT-4-level intelligence but is much faster and improves on its capabilities across text, voice, and vision.\n",
        "Today, GPT-4o is much better than any existing model at understanding and discussing the images you share. For example, you can now take a picture of a menu in a different language and talk to GPT-4o to translate it, learn about the food's history and significance, and get recommendations. In the future, improvements will allow for more natural, real-time voice conversation and the ability to converse with ChatGPT via real-time video. For example, you could show ChatGPT a live sports game and ask it to explain the rules to you. We plan to launch a new Voice Mode with these new capabilities in an alpha in the coming weeks, with early access for Plus users as we roll out more broadly.\n",
        "To make advanced AI more accessible and useful worldwide, GPT-4o's language capabilities are improved across quality and speed. ChatGPT also now supports more than 50 languages(opens in a new window) across sign-up and login, user settings, and more.\n",
        "We are beginning to roll out GPT-4o to ChatGPT Plus and Team users, with availability for Enterprise users coming soon. We are also starting to roll out to ChatGPT Free with usage limits today. Plus users will have a message limit that is up to 5x greater than free users, and Team and Enterprise users will have even higher limits.\n",
        "\"\"\"\n",
        "print(f'Text: {text}')\n",
        "keyphrase = extract_keyphrase(text)\n",
        "print(f'\\nKeyPhrase: {keyphrase}')"
      ],
      "metadata": {
        "execution": {
          "iopub.status.busy": "2024-05-18T10:29:56.006041Z",
          "iopub.execute_input": "2024-05-18T10:29:56.006412Z",
          "iopub.status.idle": "2024-05-18T10:29:57.653577Z",
          "shell.execute_reply.started": "2024-05-18T10:29:56.006370Z",
          "shell.execute_reply": "2024-05-18T10:29:57.652608Z"
        },
        "trusted": true,
        "id": "tPt-B3kKW2qp",
        "outputId": "7d74d162-79da-48a9-ddd2-9a6a0076017e"
      },
      "execution_count": null,
      "outputs": [
        {
          "name": "stdout",
          "text": "Text: \nGPT-4o is our newest flagship model that provides GPT-4-level intelligence but is much faster and improves on its capabilities across text, voice, and vision.\nToday, GPT-4o is much better than any existing model at understanding and discussing the images you share. For example, you can now take a picture of a menu in a different language and talk to GPT-4o to translate it, learn about the food's history and significance, and get recommendations. In the future, improvements will allow for more natural, real-time voice conversation and the ability to converse with ChatGPT via real-time video. For example, you could show ChatGPT a live sports game and ask it to explain the rules to you. We plan to launch a new Voice Mode with these new capabilities in an alpha in the coming weeks, with early access for Plus users as we roll out more broadly.\nTo make advanced AI more accessible and useful worldwide, GPT-4o's language capabilities are improved across quality and speed. ChatGPT also now supports more than 50 languages(opens in a new window) across sign-up and login, user settings, and more.\nWe are beginning to roll out GPT-4o to ChatGPT Plus and Team users, with availability for Enterprise users coming soon. We are also starting to roll out to ChatGPT Free with usage limits today. Plus users will have a message limit that is up to 5x greater than free users, and Team and Enterprise users will have even higher limits.\n\n\nKeyPhrase: GPT-4o; ChatGPT; advanced AI\n",
          "output_type": "stream"
        }
      ]
    },
    {
      "cell_type": "code",
      "source": [
        "text = \"\"\"\n",
        "Build a model for extracting (generating) information from an input that can be either a text, an image, a voice file, or a video file. The architecture of the model should primarily consist of a Transformer-based Encoder-Decoder.\n",
        "Choose a specific problem to  the practical application of the model:\n",
        "\n",
        "Examples:\n",
        "Describing dishes from a menu image\n",
        "Extracting events and timings from a scanned image or a photo of a text document\n",
        "Translating a menu from Vietnamese to English\n",
        "...\n",
        "\n",
        "Your submission should include the parts:\n",
        "A section presenting the general theory and the theory of the model to be used\n",
        "A section on data construction\n",
        "A section on model training\n",
        "A section on testing and evaluating accuracy\"\"\"\n",
        "print(f'Text: {text}')\n",
        "keyphrase = extract_keyphrase(text)\n",
        "print(f'\\nKeyPhrase: {keyphrase}')"
      ],
      "metadata": {
        "execution": {
          "iopub.status.busy": "2024-05-18T10:30:48.875021Z",
          "iopub.execute_input": "2024-05-18T10:30:48.875889Z",
          "iopub.status.idle": "2024-05-18T10:30:49.442989Z",
          "shell.execute_reply.started": "2024-05-18T10:30:48.875854Z",
          "shell.execute_reply": "2024-05-18T10:30:49.442110Z"
        },
        "trusted": true,
        "id": "8af2ovjEW2qp",
        "outputId": "2b39ed1d-0b50-4c36-8022-a8f1ebe314cb"
      },
      "execution_count": null,
      "outputs": [
        {
          "name": "stdout",
          "text": "Text: \nBuild a model for extracting (generating) information from an input that can be either a text, an image, a voice file, or a video file. The architecture of the model should primarily consist of a Transformer-based Encoder-Decoder.\nChoose a specific problem to  the practical application of the model:\n\nExamples:\nDescribing dishes from a menu image\nExtracting events and timings from a scanned image or a photo of a text document\nTranslating a menu from Vietnamese to English\n...\n\nYour submission should include the parts:\nA section presenting the general theory and the theory of the model to be used\nA section on data construction\nA section on model training\nA section on testing and evaluating accuracy\n\nKeyPhrase: Extracting (generating) information; Transformer-based Encoder-Decoder\n",
          "output_type": "stream"
        }
      ]
    },
    {
      "cell_type": "code",
      "source": [
        "text = \"\"\"\n",
        "Automatically extracting keyphrases from scholarly documents leads to a valuable concise representation that humans can understand and machines can process for tasks, such as information retrieval, article clustering and article classification. This paper is concerned with the parts of a scientific article that should be given as input to keyphrase extraction methods. Recent deep learning methods take titles and abstracts as input due to the increased computational complexity in processing long sequences, whereas traditional approaches can also work with full-texts. Titles and abstracts are dense in keyphrases, but often miss important aspects of the articles, while full-texts on the other hand are richer in keyphrases but much noisier. To address this trade-off, we propose the use of extractive summarization models on the full-texts of scholarly documents. Our empirical study on 3 article collections using 3 keyphrase extraction methods shows promising results.\n",
        "\"\"\"\n",
        "print(f'Text: {text}')\n",
        "keyphrase = extract_keyphrase(text)\n",
        "print(f'\\nKeyPhrase: {keyphrase}')"
      ],
      "metadata": {
        "execution": {
          "iopub.status.busy": "2024-05-18T10:30:30.125285Z",
          "iopub.execute_input": "2024-05-18T10:30:30.125677Z",
          "iopub.status.idle": "2024-05-18T10:30:30.406030Z",
          "shell.execute_reply.started": "2024-05-18T10:30:30.125648Z",
          "shell.execute_reply": "2024-05-18T10:30:30.405119Z"
        },
        "trusted": true,
        "id": "EGJX9M_oW2qp",
        "outputId": "aab69079-ad31-4299-960a-3a9a4e1cefc9"
      },
      "execution_count": null,
      "outputs": [
        {
          "name": "stdout",
          "text": "Text: \nAutomatically extracting keyphrases from scholarly documents leads to a valuable concise representation that humans can understand and machines can process for tasks, such as information retrieval, article clustering and article classification. This paper is concerned with the parts of a scientific article that should be given as input to keyphrase extraction methods. Recent deep learning methods take titles and abstracts as input due to the increased computational complexity in processing long sequences, whereas traditional approaches can also work with full-texts. Titles and abstracts are dense in keyphrases, but often miss important aspects of the articles, while full-texts on the other hand are richer in keyphrases but much noisier. To address this trade-off, we propose the use of extractive summarization models on the full-texts of scholarly documents. Our empirical study on 3 article collections using 3 keyphrase extraction methods shows promising results. \n\n\nKeyPhrase: keyphrase extraction; scholarly documents\n",
          "output_type": "stream"
        }
      ]
    }
  ]
}